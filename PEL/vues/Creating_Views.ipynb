{
 "cells": [
  {
   "cell_type": "code",
   "execution_count": 2,
   "metadata": {},
   "outputs": [],
   "source": [
    "import pandas as pd\n",
    "import sys\n",
    "sys.path.insert(0, r\"C:/Users/malaka/Documents/prog/BDD\")\n",
    "import fonctions\n",
    "import psycopg2\n",
    "from tqdm import tqdm"
   ]
  },
  {
   "cell_type": "code",
   "execution_count": 3,
   "metadata": {},
   "outputs": [],
   "source": [
    "######## PARAMETRES :: CONNEXION à LA BASE DE DONNES #########\n",
    "Nom_base = \"bdsociohab\"\n",
    "Nom_utilisateur = \"admoddh\"\n",
    "mot_de_passe = \"adm99!log\"\n",
    "nom_host = \"s934\"\n",
    "port = \"5441\"\n",
    "\n",
    "suffix_nom_schema = 'aides_personne'\n",
    "nom_schema_donnees = str('socio_hab_' + suffix_nom_schema)\n",
    "source = 'DASL'"
   ]
  },
  {
   "cell_type": "code",
   "execution_count": 4,
   "metadata": {},
   "outputs": [
    {
     "data": {
      "text/plain": [
       "['fsl', 'pel', 'Corres_com_epci']"
      ]
     },
     "execution_count": 4,
     "metadata": {},
     "output_type": "execute_result"
    }
   ],
   "source": [
    "con = fonctions.connexion(Nom_base, Nom_utilisateur, mot_de_passe, nom_host, port)\n",
    "table_names = []\n",
    "cursor = con.cursor()\n",
    "cursor.execute(\"SELECT table_name FROM information_schema.tables WHERE table_schema = \"+ \"'\"+nom_schema_donnees+\"' AND table_type = 'BASE TABLE'\")\n",
    "        \n",
    "for table in cursor.fetchall():\n",
    "    table_names.append(table[0])\n",
    "table_names"
   ]
  },
  {
   "cell_type": "code",
   "execution_count": 5,
   "metadata": {
    "scrolled": true
   },
   "outputs": [
    {
     "name": "stderr",
     "output_type": "stream",
     "text": [
      "100%|██████████| 3/3 [00:00<00:00,  8.77it/s]"
     ]
    },
    {
     "name": "stdout",
     "output_type": "stream",
     "text": [
      "______________________________________________________________________________\n",
      "La Vue socio_hab_aides_personne.fsl à été créée avec succès dans PostgreSQL \n",
      "\n",
      "______________________________________________________________________________\n",
      "La Vue socio_hab_aides_personne.pel à été créée avec succès dans PostgreSQL \n",
      "\n",
      "select distinct modalites_aides_personne.codemodalext from modalites_aides_personne, socio_hab_aides_personne.Corres_com_epci where modalites_aides_personne.codemodalid = socio_hab_aides_personne.Corres_com_epci.codemodalid\n",
      "Erreur lors de la création de la Vuesocio_hab_aides_personne.Corres_com_epci dans PostgreSQL:  ERREUR:  chaîne entre guillemets dollars non terminée sur ou près de « $$ values ) AS table_fsl (\"row_id\" text,\"codeentite\" text, \"annee\" text,); »\n",
      "LINE 7:                  $$ values ) AS table_fsl (\"row_id\" text,\"co...\n",
      "                         ^\n",
      "\n",
      "\n",
      "             CREATE VIEW socio_hab_aides_personne.Corres_com_epci_Vue AS SELECT * FROM crosstab(\n",
      "                 ' SELECT concat(socio_hab_aides_personne.Corres_com_epci.codeentite, socio_hab_aides_personne.Corres_com_epci.annee) as row_id, socio_hab_aides_personne.Corres_com_epci.codeentite, \n",
      "                 socio_hab_aides_personne.Corres_com_epci.annee, modalites_aides_personne.codemodalext, socio_hab_aides_personne.Corres_com_epci.valeur\n",
      "                FROM  socio_hab_aides_personne.Corres_com_epci, modalites_aides_personne\n",
      "                 WHERE modalites_aides_personne.codemodalid = socio_hab_aides_personne.Corres_com_epci.codemodalid',\n",
      "                 $$ values ) AS table_fsl (\"row_id\" text,\"codeentite\" text, \"annee\" text,);\n"
     ]
    },
    {
     "name": "stderr",
     "output_type": "stream",
     "text": [
      "\n"
     ]
    }
   ],
   "source": [
    "con = fonctions.connexion(Nom_base, Nom_utilisateur, mot_de_passe, nom_host, port)\n",
    "\n",
    "for tab in tqdm(range(len(table_names))):\n",
    "    #print('Vue de la table :: ',table_names[tab])\n",
    "    #nomenclature \n",
    "    view_name = table_names[tab]\n",
    "    name_avec_schema = nom_schema_donnees+\".\"+view_name\n",
    "    table_name=name_avec_schema+\"_Vue\"\n",
    "    \n",
    "    # les modalités présentes dans la table\n",
    "    sqlQuery_modalites = \"select distinct {modalites}.codemodalext \"+\\\n",
    "                            \"from {modalites}, {name_avec_schema} \"+\\\n",
    "                            \"where {modalites}.codemodalid = {name_avec_schema}.codemodalid\"\n",
    "    \n",
    "    sqlQuery_modalites = sqlQuery_modalites.format(name_avec_schema=name_avec_schema, table_name=table_name,\n",
    "                          modalites= 'modalites_'+suffix_nom_schema.lower(),\n",
    "                          variables= 'variables_'+suffix_nom_schema.lower(),\n",
    "                          posseder=  'posseder_'+suffix_nom_schema.lower()   \n",
    "                                                   \n",
    "                                                  )\n",
    "    #print(sqlQuery_modalites)\n",
    "    try:\n",
    "        tab_modalites_avec_type = []\n",
    "        tab_modalites_sans_type = []\n",
    "        cursor = con.cursor()\n",
    "        cursor.execute(sqlQuery_modalites)\n",
    "        result = cursor.fetchall()\n",
    "        for i in range(len(result)):\n",
    "                tab_modalites_avec_type.append(str('\"'+result[i][0]+'\"' + \" double precision\"))\n",
    "                tab_modalites_sans_type.append(str(result[i][0]))\n",
    "        #print(tab_modalites_avec_type)\n",
    "        #print(tab_modalites_sans_type)\n",
    "    except (Exception, psycopg2.Error) as error :\n",
    "        print(sqlQuery_modalites)\n",
    "    \n",
    "    con = fonctions.connexion(Nom_base, Nom_utilisateur, mot_de_passe, nom_host, port)\n",
    "    sqlQuery =  \"\"\"\n",
    "             CREATE VIEW {table_name} AS SELECT * FROM crosstab(\n",
    "                 ' SELECT concat({name_avec_schema}.codeentite, {name_avec_schema}.annee) as row_id, {name_avec_schema}.codeentite, \n",
    "                 {name_avec_schema}.annee, {modalites}.codemodalext, {name_avec_schema}.valeur\n",
    "                FROM  {name_avec_schema}, {modalites}\n",
    "                 WHERE {modalites}.codemodalid = {name_avec_schema}.codemodalid',\n",
    "                 $$ values \"\"\"\n",
    "    \n",
    "    # Ajout des valeurs précises\n",
    "    for i in range(len(tab_modalites_sans_type)):\n",
    "        if(i == len(result)-1):\n",
    "            sqlQuery = sqlQuery+ \" ('{}') $$\".format(tab_modalites_sans_type[i])\n",
    "        else:\n",
    "            sqlQuery = sqlQuery+ \" ('{}'),\".format(tab_modalites_sans_type[i])\n",
    "    sqlQuery = sqlQuery + ') AS table_fsl (\"row_id\" text,\"codeentite\" text, \"annee\" text,'\n",
    "#     sqlQuery = sqlQuery.format(name_avec_schema=name_avec_schema, table_name=table_name,\n",
    "#                           modalites= 'modalites_'+suffix_nom_schema.lower(),\n",
    "#                           variables= 'variables_'+suffix_nom_schema.lower(),\n",
    "#                           posseder=  'posseder_'+suffix_nom_schema.lower() )\n",
    "\n",
    " \n",
    "    #print(sqlQuery)\n",
    "    for i in range(len(tab_modalites_avec_type)):\n",
    "        if(i == len(result)-1):\n",
    "            sqlQuery = sqlQuery+ \" {}\".format(tab_modalites_avec_type[i])\n",
    "        else:\n",
    "            sqlQuery = sqlQuery+ \" {},\".format(tab_modalites_avec_type[i])\n",
    "    sqlQuery = sqlQuery +\");\"\n",
    "    sqlQuery = sqlQuery.format(name_avec_schema=name_avec_schema, table_name=table_name,\n",
    "                      modalites= 'modalites_'+suffix_nom_schema.lower(),\n",
    "                      variables= 'variables_'+suffix_nom_schema.lower(),\n",
    "                      posseder=  'posseder_'+suffix_nom_schema.lower()) \n",
    "\n",
    "    try:\n",
    "        cur = con.cursor()\n",
    "        dropingLine = 'DROP VIEW  IF EXISTS ' + table_name+ ';'\n",
    "        cur.execute(dropingLine)\n",
    "        cur.execute(sqlQuery)\n",
    "        con.commit()\n",
    "        print('______________________________________________________________________________')\n",
    "        print(\"La Vue \"+name_avec_schema+ \" à été créée avec succès dans PostgreSQL \\n\")\n",
    "        #print(sqlQuery,'\\n')\n",
    "    except (Exception) as error :\n",
    "        print (\"Erreur lors de la création de la Vue\"+name_avec_schema+\" dans PostgreSQL: \", error)\n",
    "        print(sqlQuery)\n",
    "#print(sqlQuery)"
   ]
  },
  {
   "cell_type": "code",
   "execution_count": null,
   "metadata": {},
   "outputs": [],
   "source": []
  }
 ],
 "metadata": {
  "kernelspec": {
   "display_name": "Python 3 (ipykernel)",
   "language": "python",
   "name": "python3"
  },
  "language_info": {
   "codemirror_mode": {
    "name": "ipython",
    "version": 3
   },
   "file_extension": ".py",
   "mimetype": "text/x-python",
   "name": "python",
   "nbconvert_exporter": "python",
   "pygments_lexer": "ipython3",
   "version": "3.9.7"
  }
 },
 "nbformat": 4,
 "nbformat_minor": 4
}
