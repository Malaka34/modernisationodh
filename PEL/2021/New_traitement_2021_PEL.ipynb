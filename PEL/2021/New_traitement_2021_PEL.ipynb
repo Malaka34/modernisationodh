{
 "cells": [
  {
   "cell_type": "markdown",
   "metadata": {},
   "source": [
    "### Téléchargement des fichiers CSV\n",
    "    Création du dossier 'DossierFichiersbrutesCsv'"
   ]
  },
  {
   "cell_type": "code",
   "execution_count": 1,
   "metadata": {},
   "outputs": [],
   "source": [
    "import os\n",
    "from io import StringIO\n",
    "import glob\n",
    "import pandas as pd\n",
    "import sys\n",
    "sys.path.insert(0, r\"C:\\Users\\malaka\\Documents\\prog\\BDD\") # a adapter\n",
    "import fonctions"
   ]
  },
  {
   "cell_type": "code",
   "execution_count": 2,
   "metadata": {},
   "outputs": [],
   "source": [
    "#Creation du dossier DossierFichiersbrutesCsv\n",
    "os.mkdir('DossierFichiersbrutesCsv')"
   ]
  },
  {
   "cell_type": "code",
   "execution_count": 3,
   "metadata": {},
   "outputs": [],
   "source": [
    "df = pd.ExcelFile('PEL.xlsx')\n",
    "#df.sheet_names"
   ]
  },
  {
   "cell_type": "code",
   "execution_count": 4,
   "metadata": {},
   "outputs": [
    {
     "name": "stdout",
     "output_type": "stream",
     "text": [
      "PEL\n"
     ]
    }
   ],
   "source": [
    "for sheet  in df.sheet_names:\n",
    "    df2 = pd.read_excel(df,sheet_name=sheet) \n",
    "    name = sheet \n",
    "    print(name)\n",
    "    df2.to_csv(r'DossierFichiersbrutesCsv/'+name+\".csv\",index=False,sep=';', encoding='utf-8')"
   ]
  },
  {
   "cell_type": "markdown",
   "metadata": {},
   "source": [
    "### Traitement et versement"
   ]
  },
  {
   "cell_type": "code",
   "execution_count": 5,
   "metadata": {},
   "outputs": [],
   "source": [
    "chemin = 'DossierFichiersbrutesCsv'\n",
    "annee = 2021\n",
    "path_vars ='../vars/'\n",
    "\n",
    "######## PARAMETRES :: CREATION DE TABLES #########\n",
    "suffix_nom_schema = 'aides_personne'\n",
    "nom_Fichier_Variable = 'variables_{}.csv'.format(suffix_nom_schema)\n",
    "nom_Fichier_Modalite = 'Modalites_{}.csv'.format(suffix_nom_schema)\n",
    "\n",
    "######## PARAMETRES :: CONNEXION à LA BASE DE DONNES #########\n",
    "Nom_base = \"bdsociohab\"\n",
    "Nom_utilisateur = \"admoddh\"\n",
    "mot_de_passe = \"adm99!log\"\n",
    "nom_host = \"s934\"\n",
    "port = \"5441\"\n",
    "\n",
    "######## PARAMETRES :: INSERTION DES DONNEES #########\n",
    "source ='DASL'\n",
    "nom_schema_donnees = str('socio_hab_' + suffix_nom_schema).lower()"
   ]
  },
  {
   "cell_type": "code",
   "execution_count": 6,
   "metadata": {},
   "outputs": [
    {
     "data": {
      "text/plain": [
       "<module 'fonctions' from 'C:\\\\Users\\\\malaka\\\\Documents\\\\prog\\\\BDD\\\\fonctions.py'>"
      ]
     },
     "execution_count": 6,
     "metadata": {},
     "output_type": "execute_result"
    }
   ],
   "source": [
    "import importlib\n",
    "importlib.reload(fonctions)"
   ]
  },
  {
   "cell_type": "code",
   "execution_count": 7,
   "metadata": {},
   "outputs": [
    {
     "name": "stdout",
     "output_type": "stream",
     "text": [
      "Est-ce la première fois que cette source de données va être traitée ? \n",
      " Est-ce le premier millésime de cette base de données qui va être traité ? (Répondez par : OUI ou NON) \n",
      "non\n",
      "listes de modalités et de variables déja existantes \n",
      "\n",
      " Veuillez Choisir l'echelle correspondant à l'echelle de vos données :\n",
      "\n",
      "                        1 pour Commune\n",
      "                        2 pour EPCI\n",
      "                        3 pour IRIS\n",
      "                        4 pour Canton\n",
      "                        5 pour Logement\n",
      "                        6 pour Parcelle\n",
      "                        7 pour Section cadastrale\n",
      "                        8 pour Département\n",
      "                        9 pour Autre\n",
      "\n",
      "                        \n",
      "1\n"
     ]
    },
    {
     "name": "stderr",
     "output_type": "stream",
     "text": [
      "\r",
      "  0%|          | 0/1 [00:00<?, ?it/s]"
     ]
    },
    {
     "name": "stdout",
     "output_type": "stream",
     "text": [
      " nom :::::  PEL\n",
      "Modalité recherché : Code_Entite \n",
      "\n",
      "trouvé \n",
      "\n",
      "Modalité recherché : Asg \n",
      "\n",
      "trouvé \n",
      "\n",
      "Modalité recherché : Cfp \n",
      "\n",
      "trouvé \n",
      "\n",
      "Modalité recherché : Cql \n",
      "\n",
      "trouvé \n",
      "\n",
      "Modalité recherché : Ccapex \n",
      "\n",
      "trouvé \n",
      "\n"
     ]
    },
    {
     "name": "stderr",
     "output_type": "stream",
     "text": [
      "100%|██████████| 1/1 [00:05<00:00,  5.36s/it]\n"
     ]
    }
   ],
   "source": [
    "new_millesime = fonctions.traitementDonneesComplet(chemin,annee,nom_Fichier_Variable,source,nom_Fichier_Modalite,path_vars,suffix_nom_schema)"
   ]
  },
  {
   "cell_type": "code",
   "execution_count": 8,
   "metadata": {
    "scrolled": true
   },
   "outputs": [
    {
     "name": "stdout",
     "output_type": "stream",
     "text": [
      "DROPPING foreign keys\n",
      "Mise à jour de la table variable \n",
      "\n",
      "Les données importées ont été inserées avec succès dans la table \n",
      "\n",
      "Mise à jour de la table Modalité \n",
      "\n",
      "Les données importées ont été inserées avec succès dans la table \n",
      "\n",
      "Insertion de données dans la table de jointure \"Posseder\" \n",
      "\n",
      "Les données importées ont été inserées avec succès dans la table \n",
      "\n"
     ]
    },
    {
     "name": "stderr",
     "output_type": "stream",
     "text": [
      "\r",
      "  0%|          | 0/1 [00:00<?, ?it/s]"
     ]
    },
    {
     "name": "stdout",
     "output_type": "stream",
     "text": [
      "Création de la table des données pel \n",
      "\n",
      "{'nom': ['pel'], 'colonnes': ['CodeVarID', 'Annee', 'codeEntite', 'CodeModalID', 'Echelle', 'IndicePosition', 'Valeur'], 'types': ['int', 'int', 'int', 'int', 'text', 'text', 'float'], 'primary_key': ['IndicePosition'], 'foreign_Keys': ['CodeVarID', 'CodeModalID'], 'tableRefFK': ['variables_aides_personne', 'Modalites_aides_personne']}\n",
      "______________________________________________________________________________\n",
      "La table pel à été créée avec succès dans PostgreSQL \n",
      "\n",
      "Insertion de données \n",
      "\n"
     ]
    },
    {
     "name": "stderr",
     "output_type": "stream",
     "text": [
      "100%|██████████| 1/1 [00:02<00:00,  2.55s/it]"
     ]
    },
    {
     "name": "stdout",
     "output_type": "stream",
     "text": [
      "la requête a été executée\n",
      "Les données importées ont été inserées avec succès dans la table socio_hab_aides_personne.pel \n",
      "\n",
      "RE-ADDING foreign keys\n"
     ]
    },
    {
     "name": "stderr",
     "output_type": "stream",
     "text": [
      "\n"
     ]
    }
   ],
   "source": [
    "fonctions.versementDonnes2(Nom_base,Nom_utilisateur,mot_de_passe,nom_host,port,source,nom_schema_donnees,\n",
    "                    nom_Fichier_Variable,nom_Fichier_Modalite,new_millesime,path_vars,suffix_nom_schema)"
   ]
  },
  {
   "cell_type": "code",
   "execution_count": 9,
   "metadata": {},
   "outputs": [],
   "source": [
    "#suppression des dossiers temporaires \n",
    "import shutil # to move files \n",
    "doss_to_delete = ['DossierFichiersbrutesCsv','DossierFichiersTraités']\n",
    "for doss in range(len(doss_to_delete)):\n",
    "    try:\n",
    "        shutil.rmtree(doss_to_delete[doss])\n",
    "    except OSError as e:\n",
    "        print(\"Error: %s - %s.\" % (e.filename, e.strerror))"
   ]
  }
 ],
 "metadata": {
  "kernelspec": {
   "display_name": "Python 3 (ipykernel)",
   "language": "python",
   "name": "python3"
  },
  "language_info": {
   "codemirror_mode": {
    "name": "ipython",
    "version": 3
   },
   "file_extension": ".py",
   "mimetype": "text/x-python",
   "name": "python",
   "nbconvert_exporter": "python",
   "pygments_lexer": "ipython3",
   "version": "3.9.7"
  }
 },
 "nbformat": 4,
 "nbformat_minor": 4
}
