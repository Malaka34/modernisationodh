{
 "cells": [
  {
   "cell_type": "code",
   "execution_count": 1,
   "metadata": {},
   "outputs": [],
   "source": [
    "import pandas as pd\n",
    "import sys\n",
    "sys.path.insert(0, r\"C:/Users/malaka/Documents/prog/BDD\")  # à adapter\n",
    "import fonctions\n",
    "import psycopg2\n",
    "from tqdm import tqdm"
   ]
  },
  {
   "cell_type": "code",
   "execution_count": 2,
   "metadata": {},
   "outputs": [],
   "source": [
    "######## PARAMETRES :: CONNEXION à LA BASE DE DONNES #########\n",
    "Nom_base = \"bdsociohab\"                             # à adapter\n",
    "Nom_utilisateur = \"admoddh\"                         # à adapter\n",
    "mot_de_passe = \"adm99!log\"                          # à adapter\n",
    "nom_host = \"s934\" \n",
    "port = \"5441\"\n",
    "\n",
    "suffix_nom_schema = 'sne'                           # à adapter\n",
    "nom_schema_donnees = str('socio_hab_' + suffix_nom_schema)"
   ]
  },
  {
   "cell_type": "code",
   "execution_count": 3,
   "metadata": {},
   "outputs": [
    {
     "name": "stderr",
     "output_type": "stream",
     "text": [
      " 14%|█▍        | 4/29 [00:00<00:01, 16.96it/s]"
     ]
    },
    {
     "name": "stdout",
     "output_type": "stream",
     "text": [
      "______________________________________________________________________________\n",
      "La Vue socio_hab_sne.taille_menage_attribution à été créée avec succès dans PostgreSQL \n",
      "\n",
      "______________________________________________________________________________\n",
      "La Vue socio_hab_sne.statut_prof_demande à été créée avec succès dans PostgreSQL \n",
      "\n",
      "______________________________________________________________________________\n",
      "La Vue socio_hab_sne.statut_prof_attribution à été créée avec succès dans PostgreSQL \n",
      "\n",
      "______________________________________________________________________________\n",
      "La Vue socio_hab_sne.situ_familiale_demande à été créée avec succès dans PostgreSQL \n",
      "\n"
     ]
    },
    {
     "name": "stderr",
     "output_type": "stream",
     "text": [
      " 28%|██▊       | 8/29 [00:00<00:01, 18.09it/s]"
     ]
    },
    {
     "name": "stdout",
     "output_type": "stream",
     "text": [
      "______________________________________________________________________________\n",
      "La Vue socio_hab_sne.situ_familiale_attribution à été créée avec succès dans PostgreSQL \n",
      "\n",
      "______________________________________________________________________________\n",
      "La Vue socio_hab_sne.revenu_uc_demande à été créée avec succès dans PostgreSQL \n",
      "\n",
      "______________________________________________________________________________\n",
      "La Vue socio_hab_sne.revenu_uc_attribution à été créée avec succès dans PostgreSQL \n",
      "\n",
      "______________________________________________________________________________\n",
      "La Vue socio_hab_sne.revenumens_menage_demande à été créée avec succès dans PostgreSQL \n",
      "\n"
     ]
    },
    {
     "name": "stderr",
     "output_type": "stream",
     "text": [
      " 41%|████▏     | 12/29 [00:00<00:00, 18.63it/s]"
     ]
    },
    {
     "name": "stdout",
     "output_type": "stream",
     "text": [
      "______________________________________________________________________________\n",
      "La Vue socio_hab_sne.revenumens_menage_attribution à été créée avec succès dans PostgreSQL \n",
      "\n",
      "______________________________________________________________________________\n",
      "La Vue socio_hab_sne.posplaf_hlm_demande à été créée avec succès dans PostgreSQL \n",
      "\n",
      "______________________________________________________________________________\n",
      "La Vue socio_hab_sne.posplaf_hlm_attribution à été créée avec succès dans PostgreSQL \n",
      "\n",
      "______________________________________________________________________________\n",
      "La Vue socio_hab_sne.natio_demandeur_demande à été créée avec succès dans PostgreSQL \n",
      "\n",
      "______________________________________________________________________________\n",
      "La Vue socio_hab_sne.natio_demandeur_attribution à été créée avec succès dans PostgreSQL \n",
      "\n"
     ]
    },
    {
     "name": "stderr",
     "output_type": "stream",
     "text": [
      " 59%|█████▊    | 17/29 [00:00<00:00, 18.48it/s]"
     ]
    },
    {
     "name": "stdout",
     "output_type": "stream",
     "text": [
      "______________________________________________________________________________\n",
      "La Vue socio_hab_sne.motif_demande_demande à été créée avec succès dans PostgreSQL \n",
      "\n",
      "______________________________________________________________________________\n",
      "La Vue socio_hab_sne.motif_demande_attribution à été créée avec succès dans PostgreSQL \n",
      "\n",
      "______________________________________________________________________________\n",
      "La Vue socio_hab_sne.logt_actuel_demande à été créée avec succès dans PostgreSQL \n",
      "\n",
      "______________________________________________________________________________\n",
      "La Vue socio_hab_sne.logt_actuel_attribution à été créée avec succès dans PostgreSQL \n",
      "\n"
     ]
    },
    {
     "name": "stderr",
     "output_type": "stream",
     "text": [
      " 72%|███████▏  | 21/29 [00:01<00:00, 17.83it/s]"
     ]
    },
    {
     "name": "stdout",
     "output_type": "stream",
     "text": [
      "______________________________________________________________________________\n",
      "La Vue socio_hab_sne.grp_revenus_demande à été créée avec succès dans PostgreSQL \n",
      "\n",
      "______________________________________________________________________________\n",
      "La Vue socio_hab_sne.grp_revenus_attribution à été créée avec succès dans PostgreSQL \n",
      "\n",
      "______________________________________________________________________________\n",
      "La Vue socio_hab_sne.compo_famille_demande à été créée avec succès dans PostgreSQL \n",
      "\n",
      "______________________________________________________________________________\n",
      "La Vue socio_hab_sne.compo_famille_attribution à été créée avec succès dans PostgreSQL \n",
      "\n"
     ]
    },
    {
     "name": "stderr",
     "output_type": "stream",
     "text": [
      " 86%|████████▌ | 25/29 [00:01<00:00, 17.89it/s]"
     ]
    },
    {
     "name": "stdout",
     "output_type": "stream",
     "text": [
      "______________________________________________________________________________\n",
      "La Vue socio_hab_sne.taille_menage_demande à été créée avec succès dans PostgreSQL \n",
      "\n",
      "______________________________________________________________________________\n",
      "La Vue socio_hab_sne.anciennete_demande à été créée avec succès dans PostgreSQL \n",
      "\n",
      "______________________________________________________________________________\n",
      "La Vue socio_hab_sne.anciennete_attribution à été créée avec succès dans PostgreSQL \n",
      "\n",
      "______________________________________________________________________________\n",
      "La Vue socio_hab_sne.age_demandeur_demande à été créée avec succès dans PostgreSQL \n",
      "\n"
     ]
    },
    {
     "name": "stderr",
     "output_type": "stream",
     "text": [
      "100%|██████████| 29/29 [00:01<00:00, 17.92it/s]"
     ]
    },
    {
     "name": "stdout",
     "output_type": "stream",
     "text": [
      "______________________________________________________________________________\n",
      "La Vue socio_hab_sne.typologie_attribution à été créée avec succès dans PostgreSQL \n",
      "\n",
      "______________________________________________________________________________\n",
      "La Vue socio_hab_sne.age_demandeur_attribution à été créée avec succès dans PostgreSQL \n",
      "\n",
      "______________________________________________________________________________\n",
      "La Vue socio_hab_sne.type_reservat_attribution à été créée avec succès dans PostgreSQL \n",
      "\n",
      "______________________________________________________________________________\n",
      "La Vue socio_hab_sne.typologie_demande à été créée avec succès dans PostgreSQL \n",
      "\n"
     ]
    },
    {
     "name": "stderr",
     "output_type": "stream",
     "text": [
      "\n"
     ]
    }
   ],
   "source": [
    "fonctions.creationVueSchema (Nom_base, Nom_utilisateur, mot_de_passe, nom_host, port, suffix_nom_schema, nom_schema_donnees)"
   ]
  },
  {
   "cell_type": "code",
   "execution_count": null,
   "metadata": {},
   "outputs": [],
   "source": []
  }
 ],
 "metadata": {
  "kernelspec": {
   "display_name": "Python 3 (ipykernel)",
   "language": "python",
   "name": "python3"
  },
  "language_info": {
   "codemirror_mode": {
    "name": "ipython",
    "version": 3
   },
   "file_extension": ".py",
   "mimetype": "text/x-python",
   "name": "python",
   "nbconvert_exporter": "python",
   "pygments_lexer": "ipython3",
   "version": "3.9.7"
  }
 },
 "nbformat": 4,
 "nbformat_minor": 4
}
