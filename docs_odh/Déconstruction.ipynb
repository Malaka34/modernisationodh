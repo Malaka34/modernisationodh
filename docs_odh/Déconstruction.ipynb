{
 "cells": [
  {
   "cell_type": "markdown",
   "id": "8f04b684",
   "metadata": {},
   "source": [
    "# II - Déconstruction"
   ]
  },
  {
   "cell_type": "markdown",
   "id": "515398a5",
   "metadata": {},
   "source": [
    "## A.\tPremières question, création automatique de dossier temporaire"
   ]
  },
  {
   "cell_type": "markdown",
   "id": "27ba3b42",
   "metadata": {},
   "source": [
    "## B. Vérification de modalités et variables"
   ]
  },
  {
   "cell_type": "markdown",
   "id": "850f1262",
   "metadata": {},
   "source": [
    "## C. Nouvelle structuration sous format csv"
   ]
  },
  {
   "cell_type": "markdown",
   "id": "f227f1f8",
   "metadata": {},
   "source": [
    "## D.\tEnregistrement csv dans le dossier temporaire "
   ]
  },
  {
   "cell_type": "markdown",
   "id": "f8e2f9ac",
   "metadata": {},
   "source": [
    "## D.\tEnregistrement csv dans le dossier temporaire "
   ]
  }
 ],
 "metadata": {
  "kernelspec": {
   "display_name": "Python 3 (ipykernel)",
   "language": "python",
   "name": "python3"
  },
  "language_info": {
   "codemirror_mode": {
    "name": "ipython",
    "version": 3
   },
   "file_extension": ".py",
   "mimetype": "text/x-python",
   "name": "python",
   "nbconvert_exporter": "python",
   "pygments_lexer": "ipython3",
   "version": "3.9.7"
  }
 },
 "nbformat": 4,
 "nbformat_minor": 5
}
