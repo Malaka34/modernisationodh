{
 "cells": [
  {
   "cell_type": "markdown",
   "id": "08535342",
   "metadata": {},
   "source": [
    "# FAQ\n",
    "\n",
    "## Question 1 : Comment assurer la cohérence avec les fichiers locaux après une modification de table ou téléchargement de fichiers depuis pgAdmin 4 ?\n",
    "\n",
    "Après un téléchargement depuis pgAdmin, il faut s'assurer que le séparateur de texte du fichier téléchargé est ';'. Ceci en le réenregistrant via Excel et en choisissant ';' comme séparateur. Il faut aussi s'assuer que l'encodage soit en utf8.\n",
    "Voici des exemples de comment faire :\n",
    "\n",
    "### Fichier des Modalités"
   ]
  },
  {
   "cell_type": "code",
   "execution_count": null,
   "id": "b7ddfffa",
   "metadata": {},
   "outputs": [],
   "source": [
    "# Chargement du fichier des modalités (explain all the params)\n",
    "Modalites = pd.read_csv(path_vars+nom_Fichier_Modalite, delimiter=';', encoding='latin1')"
   ]
  },
  {
   "cell_type": "code",
   "execution_count": null,
   "id": "25df633b",
   "metadata": {},
   "outputs": [],
   "source": [
    "# renommage des colonnes (explain why ?)\n",
    "Modalites.rename(columns={'codemodalid':'CodeModalID', 'categ_regroupement':'Categ_regroupement', 'libelle_long\t':'Libelle_long', 'codemodalext':'CodeModalEXT', 'libellemodal':'LibelleModal'}, inplace=True)"
   ]
  },
  {
   "cell_type": "code",
   "execution_count": null,
   "id": "afad0311",
   "metadata": {},
   "outputs": [],
   "source": [
    "# Enregistrement des modifications\n",
    "Modalites.to_csv(path_vars+nom_Fichier_Modalite,index=False,sep=';', encoding='utf-8')"
   ]
  },
  {
   "cell_type": "markdown",
   "id": "a0bb1e4d",
   "metadata": {},
   "source": [
    "### Fichier des Variables"
   ]
  },
  {
   "cell_type": "code",
   "execution_count": null,
   "id": "823bd587",
   "metadata": {},
   "outputs": [],
   "source": [
    "# Chargement du fichier des modalités (explain all the params)\n",
    "Variables = pd.read_csv(path_vars+nom_Fichier_Variable,sep=';',encoding='latin1')"
   ]
  },
  {
   "cell_type": "code",
   "execution_count": null,
   "id": "ae297df4",
   "metadata": {},
   "outputs": [],
   "source": [
    "# renommage des colonnes (explain why ?)\n",
    "Variables.rename(columns={'codevarid':'CodeVarID','libaxeanalyse':'LibAxeAnalyse','origine':'Origine','codevarext':'CodeVarEXT'},inplace=True)"
   ]
  },
  {
   "cell_type": "code",
   "execution_count": null,
   "id": "6194f49f",
   "metadata": {},
   "outputs": [],
   "source": [
    "# Enregistrement des modifications\n",
    "Variables.to_csv(path_vars+nom_Fichier_Variable,index=False,sep=';',encoding='utf-8')"
   ]
  },
  {
   "cell_type": "markdown",
   "id": "6cccb159",
   "metadata": {},
   "source": [
    "### Fichier de jointure Posseder"
   ]
  },
  {
   "cell_type": "code",
   "execution_count": null,
   "id": "2af8a5de",
   "metadata": {},
   "outputs": [],
   "source": [
    "# Chargement du fichier des modalités (explain all the params)\n",
    "Posseder = pd.read_csv(path_vars+'posseder_aides_personne.csv',sep=',',encoding='utf-8')"
   ]
  },
  {
   "cell_type": "code",
   "execution_count": null,
   "id": "a878f1e0",
   "metadata": {},
   "outputs": [],
   "source": [
    "# renommage des colonnes (explain why ?)\n",
    "Posseder.rename(columns={'codevarid':'CodeVarID','codemodalid':'CodeModalID'},inplace=True)"
   ]
  },
  {
   "cell_type": "code",
   "execution_count": null,
   "id": "3d53254b",
   "metadata": {},
   "outputs": [],
   "source": [
    "# Enregistrement des modifications\n",
    "Posseder.to_csv(path_vars+'posseder_aides_personne.csv',index=False,sep=';',encoding='utf-8')"
   ]
  }
 ],
 "metadata": {
  "jupytext": {
   "cell_metadata_filter": "-all",
   "formats": "md:myst",
   "text_representation": {
    "extension": ".md",
    "format_name": "myst",
    "format_version": 0.13,
    "jupytext_version": "1.11.5"
   }
  },
  "kernelspec": {
   "display_name": "Python 3",
   "language": "python",
   "name": "python3"
  },
  "source_map": [
   14,
   25,
   31,
   37,
   40,
   42,
   48,
   54,
   57,
   60,
   66,
   72
  ]
 },
 "nbformat": 4,
 "nbformat_minor": 5
}