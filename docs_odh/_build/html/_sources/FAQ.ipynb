{
 "cells": [
  {
   "cell_type": "markdown",
   "id": "8007748d",
   "metadata": {},
   "source": [
    "![](Bandeau_seul_ODH.png)\n",
    "\n",
    "# FAQ\n",
    "\n",
    "## 1- Comment assurer la cohérence avec les fichiers locaux après une modification de table ou téléchargement de fichiers depuis pgAdmin 4 ?\n",
    "\n",
    "Après un téléchargement depuis pgAdmin, il faut s'assurer que le séparateur de texte du fichier téléchargé est **`';'`**. Ceci en le réenregistrant via Excel et en choisissant  **`';'`** comme séparateur. Il faut aussi s'assurer que l'encodage soit en **`utf-8`**.\n",
    "    Voici des exemples de comment faire :\n",
    "\n",
    "### a- Fichier des Modalités"
   ]
  },
  {
   "cell_type": "code",
   "execution_count": null,
   "id": "8396a019",
   "metadata": {},
   "outputs": [],
   "source": [
    "# Chargement du fichier des modalités (explain all the params)\n",
    "Modalites = pd.read_csv(path_vars+nom_Fichier_Modalite, delimiter=';', encoding='latin1')"
   ]
  },
  {
   "cell_type": "code",
   "execution_count": null,
   "id": "6e858907",
   "metadata": {},
   "outputs": [],
   "source": [
    "# renommage des colonnes (explain why ?)\n",
    "Modalites.rename(columns={'codemodalid':'CodeModalID', 'categ_regroupement':'Categ_regroupement', 'libelle_long\t':'Libelle_long', 'codemodalext':'CodeModalEXT', 'libellemodal':'LibelleModal'}, inplace=True)"
   ]
  },
  {
   "cell_type": "code",
   "execution_count": null,
   "id": "4834e3c9",
   "metadata": {},
   "outputs": [],
   "source": [
    "# Enregistrement des modifications\n",
    "Modalites.to_csv(path_vars+nom_Fichier_Modalite,index=False,sep=';', encoding='utf-8')"
   ]
  },
  {
   "cell_type": "markdown",
   "id": "282a4ec5",
   "metadata": {},
   "source": [
    "### b-Fichier des Variables"
   ]
  },
  {
   "cell_type": "code",
   "execution_count": null,
   "id": "95a52d4a",
   "metadata": {},
   "outputs": [],
   "source": [
    "# Chargement du fichier des modalités (explain all the params)\n",
    "Variables = pd.read_csv(path_vars+nom_Fichier_Variable,sep=';',encoding='latin1')"
   ]
  },
  {
   "cell_type": "code",
   "execution_count": null,
   "id": "a0c9c67c",
   "metadata": {},
   "outputs": [],
   "source": [
    "# renommage des colonnes (explain why ?)\n",
    "Variables.rename(columns={'codevarid':'CodeVarID','libaxeanalyse':'LibAxeAnalyse','origine':'Origine','codevarext':'CodeVarEXT'},inplace=True)"
   ]
  },
  {
   "cell_type": "code",
   "execution_count": null,
   "id": "e0b7a952",
   "metadata": {},
   "outputs": [],
   "source": [
    "# Enregistrement des modifications\n",
    "Variables.to_csv(path_vars+nom_Fichier_Variable,index=False,sep=';',encoding='utf-8')"
   ]
  },
  {
   "cell_type": "markdown",
   "id": "5b2373ff",
   "metadata": {},
   "source": [
    "### c- Fichier de jointure Posseder"
   ]
  },
  {
   "cell_type": "code",
   "execution_count": null,
   "id": "5d04dd4e",
   "metadata": {},
   "outputs": [],
   "source": [
    "# Chargement du fichier des modalités (explain all the params)\n",
    "Posseder = pd.read_csv(path_vars+'posseder_aides_personne.csv',sep=',',encoding='utf-8')"
   ]
  },
  {
   "cell_type": "code",
   "execution_count": null,
   "id": "f8ed5aa0",
   "metadata": {},
   "outputs": [],
   "source": [
    "# renommage des colonnes (explain why ?)\n",
    "Posseder.rename(columns={'codevarid':'CodeVarID','codemodalid':'CodeModalID'},inplace=True)"
   ]
  },
  {
   "cell_type": "code",
   "execution_count": null,
   "id": "c0b64048",
   "metadata": {},
   "outputs": [],
   "source": [
    "# Enregistrement des modifications\n",
    "Posseder.to_csv(path_vars+'posseder_aides_personne.csv',index=False,sep=';',encoding='utf-8')"
   ]
  },
  {
   "cell_type": "markdown",
   "id": "cd4e23cc",
   "metadata": {},
   "source": [
    "## 2- Erreur UnicodeDecodeError\n",
    "Cette erreur se produit lorsque vous essayez d'ouvrir un fichier avec l'encodage **`utf-8`**, alors qu'il est encodé différement."
   ]
  },
  {
   "cell_type": "code",
   "execution_count": null,
   "id": "d7c89b26",
   "metadata": {},
   "outputs": [],
   "source": [
    "UnicodeDecodeError: 'utf-8' codec can't decode byte 0xe9 in position 1665: invalid continuation byte"
   ]
  },
  {
   "cell_type": "markdown",
   "id": "2d8af2db",
   "metadata": {},
   "source": [
    "Pour régler ce problème, exécutez les mêmes cellules que dans la question précédente, sauf la cellule du renommage.\n",
    "\n",
    "\n",
    "## 3- Erreur FileExistsError: [WinError 183] \n",
    "Lorsque vous rencontrez sur ce type d'erreur comme par exemple :"
   ]
  },
  {
   "cell_type": "code",
   "execution_count": null,
   "id": "e86e0809",
   "metadata": {},
   "outputs": [],
   "source": [
    "FileExistsError: [WinError 183] Impossible de créer un fichier déjà existant: 'DossierFichiersTraités'"
   ]
  },
  {
   "cell_type": "markdown",
   "id": "c31d5fd7",
   "metadata": {},
   "source": [
    "Cela indique que vous essayer de créer un dossier qui existe déjà. Vous devez donc supprimer le dossier existant et réexécuter votre code.\n",
    "\n",
    "\n",
    "## 4- Erreur ModuleNotFoundError \n",
    "Ce type d'erreur se produit quand vous essayez d'utiliser une bibliothèque / un package non importé."
   ]
  },
  {
   "cell_type": "code",
   "execution_count": null,
   "id": "b99c8bf7",
   "metadata": {},
   "outputs": [],
   "source": [
    "ModuleNotFoundError: No module named 'fonctions'"
   ]
  },
  {
   "cell_type": "markdown",
   "id": "7a26fbf8",
   "metadata": {},
   "source": [
    "Dans cet exemple, c'est parce que le chemin d'accès au fichier **`fonctions.py`** n'est pas spécifié correctement. la ligne de code suivante doit être modifiée :"
   ]
  },
  {
   "cell_type": "code",
   "execution_count": null,
   "id": "4e67830c",
   "metadata": {},
   "outputs": [],
   "source": [
    "sys.path.insert(0, r\"C:/Users/malaka/Documents/BDD\")  # à adapter a partir de malaka"
   ]
  },
  {
   "cell_type": "markdown",
   "id": "ec201c23",
   "metadata": {},
   "source": [
    "## 5- Erreur AttributeError"
   ]
  },
  {
   "cell_type": "code",
   "execution_count": null,
   "id": "06e6e162",
   "metadata": {},
   "outputs": [],
   "source": [
    "AttributeError: 'NoneType' object has no attribute 'cursor'"
   ]
  },
  {
   "cell_type": "markdown",
   "id": "294c075e",
   "metadata": {},
   "source": [
    "lorsque le mauvais mot de passe et/ou  nom d'utilisateur est entré pour se connecter au serveur.\n",
    "\n",
    "\n",
    "## 6- Erreur psycopg2.errors.UniqueViolation"
   ]
  },
  {
   "cell_type": "code",
   "execution_count": null,
   "id": "a03efb3d",
   "metadata": {},
   "outputs": [],
   "source": [
    "psycopg2.errors.UniqueViolation: ERREUR:  la valeur d'une clé dupliquée rompt la contrainte unique « age_demandeur_attribution_pkey »\n",
    "DETAIL:  La clé « (indiceposition)=(15340031522020) » existe déjà."
   ]
  },
  {
   "cell_type": "markdown",
   "id": "8c80f748",
   "metadata": {},
   "source": [
    "Cela indique que vous avez peut-être entré le paramètre de l'année de manière incorrecte.\n",
    "\n",
    "![](logo_bandeau.jpg)"
   ]
  }
 ],
 "metadata": {
  "jupytext": {
   "cell_metadata_filter": "-all",
   "formats": "md:myst",
   "text_representation": {
    "extension": ".md",
    "format_name": "myst",
    "format_version": 0.13,
    "jupytext_version": "1.11.5"
   }
  },
  "kernelspec": {
   "display_name": "Python 3",
   "language": "python",
   "name": "python3"
  },
  "source_map": [
   14,
   25,
   31,
   37,
   40,
   42,
   48,
   54,
   57,
   60,
   66,
   72,
   75,
   78,
   80,
   87,
   89,
   96,
   98,
   101,
   103,
   108,
   110,
   116,
   119
  ]
 },
 "nbformat": 4,
 "nbformat_minor": 5
}