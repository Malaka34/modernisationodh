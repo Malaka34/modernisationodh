{
 "cells": [
  {
   "cell_type": "markdown",
   "id": "eb8000ce",
   "metadata": {},
   "source": [
    "![](Bandeau_seul_ODH.png)"
   ]
  },
  {
   "cell_type": "markdown",
   "id": "ab7cd4e7",
   "metadata": {},
   "source": [
    "\n",
    "# I -  Paramètres à renseigner sur le script\n"
   ]
  },
  {
   "cell_type": "markdown",
   "id": "90c70704",
   "metadata": {},
   "source": [
    "Avant de commencer à exécuter ces cellules, vous devrez déjà avoir créé dans pgAdmin le schéma où seront versées les données du classeur excel qui va être traité.<br>\n",
    "Il faut aussi fermer toutes les fichiers excel qui seront utilisés au cours de ce traitement."
   ]
  },
  {
   "cell_type": "markdown",
   "id": "9be53911",
   "metadata": {},
   "source": [
    "Le script commence par une cellule d'import de librairies nécessaires au bon déroulement du traitement et versement de données.\n",
    "L'avant-dernière ligne qui ressemble à la ligne de code suivante renseigne la localisation du fichier fonctions.py et donc est à adapter selon sa localisation dans votre ordinateur."
   ]
  },
  {
   "cell_type": "code",
   "execution_count": null,
   "id": "46d40332",
   "metadata": {},
   "outputs": [],
   "source": [
    "sys.path.insert(0, r\"C:/Users/malaka/Documents/prog/BDD\") # à adpter à partir de malaka"
   ]
  },
  {
   "cell_type": "markdown",
   "id": "1c37f43f",
   "metadata": {},
   "source": [
    "Dans l'exemple ci-dessus , mon fichier fonction se trouve dans dans le dossier 'BDD' dont le chemin est \"C:/Users/malaka/Documents/prog/BDD\".\n",
    "La cellule  après celle des imports de librairies, permet ed créer un dossier temporaire nommé 'DossierFichiersbrutesCsv' qui sera supprimer à la fin du programme.\n",
    "\n",
    "Il faudrait ensuite changer dans la cellule suivante, 'SNE_Demande_2020_com.xlsx' par le nom du fichier à traiter (le workbook). L'exécusion de la prochaine cellule va permettre d'enregistrer les feuilles excel du workbook en fichiers csv. ce format important pour la suite du programme. les noms des feuilles excel vont s'afficher au fur et à mesure qu'ils sont enregistrés en format csv.\n",
    "\n",
    "On va renseigner les paramètres du programme universel :"
   ]
  },
  {
   "cell_type": "code",
   "execution_count": null,
   "id": "8525529a",
   "metadata": {},
   "outputs": [],
   "source": [
    "annee = 2020                                         # à adapter\n",
    "path_vars ='../vars/'                                # à adapter\n",
    "\n",
    "######## PARAMETRES :: CREATION DE TABLES #########\n",
    "suffix_nom_schema = 'SNE'                            # à adapter\n",
    "\n",
    "nom_Fichier_Variable = 'variables_{}.csv'.format(suffix_nom_schema)\n",
    "nom_Fichier_Modalite = 'Modalites_{}.csv'.format(suffix_nom_schema)\n",
    "\n",
    "######## PARAMETRES :: CONNEXION à LA BASE DE DONNES #########\n",
    "Nom_base = \"bdsociohab\"                             # à adapter\n",
    "Nom_utilisateur = \"Votre_d'utilisateur_pgAdmin\"     # à adapter\n",
    "mot_de_passe = \"Votre_mot_de_passe\"                 # à adapter\n",
    "nom_host = \"s934\" \n",
    "port = \"5441\"\n",
    "\n",
    "######## PARAMETRES :: INSERTION DES DONNEES #########\n",
    "source ='SNE'                                       # à adapter\n",
    "nom_schema_donnees = str('socio_hab_' + suffix_nom_schema).lower()"
   ]
  },
  {
   "cell_type": "markdown",
   "id": "41af195c",
   "metadata": {},
   "source": [
    "- annee = année de collecte\n",
    "- suffix_nom_schema = le nom qui est donné au shéma dans lequel va être versé ces données, sans la partie 'socio_hab_'\n",
    "- source = nom de la source (ex : 'FSL')\n",
    "- path_vars = le chemin du dossier \"vars\"\n",
    "- Nom_base est un string qui represente le nom de la base de données à la quelle on souhaite se connecter\n",
    "- Nom_utilisateur est un string qui represente le nom de pgAdmin de l'utilisateur qui souhaite de connecter\n",
    "- mot_de_passe est un string qui represente le mot de passe de l'utilisateur\n",
    "- nom_host est un string qui represente le nom de l'hebergeur de la base de données\n",
    "- port est un string numerique qui represente le port de connexion à la base de données"
   ]
  },
  {
   "cell_type": "markdown",
   "id": "947bd66e",
   "metadata": {},
   "source": [
    "![](logo_bandeau.jpg)"
   ]
  }
 ],
 "metadata": {
  "kernelspec": {
   "display_name": "Python 3 (ipykernel)",
   "language": "python",
   "name": "python3"
  },
  "language_info": {
   "codemirror_mode": {
    "name": "ipython",
    "version": 3
   },
   "file_extension": ".py",
   "mimetype": "text/x-python",
   "name": "python",
   "nbconvert_exporter": "python",
   "pygments_lexer": "ipython3",
   "version": "3.9.7"
  }
 },
 "nbformat": 4,
 "nbformat_minor": 5
}
