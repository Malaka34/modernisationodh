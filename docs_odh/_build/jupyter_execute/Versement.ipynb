{
 "cells": [
  {
   "cell_type": "markdown",
   "id": "ef2d1054",
   "metadata": {},
   "source": [
    "![](Bandeau_seul_ODH.png)"
   ]
  },
  {
   "cell_type": "markdown",
   "id": "cd4e8e52",
   "metadata": {},
   "source": [
    "# III - Versement de données et suppression des dossiers temporaire"
   ]
  },
  {
   "cell_type": "code",
   "execution_count": null,
   "id": "6adf0601",
   "metadata": {},
   "outputs": [],
   "source": [
    "fonctions.versementDonnes2(Nom_base,Nom_utilisateur,mot_de_passe,nom_host,port,source,nom_schema_donnees,\n",
    "                    nom_Fichier_Variable,nom_Fichier_Modalite,new_millesime,path_vars,suffix_nom_schema)"
   ]
  },
  {
   "cell_type": "code",
   "execution_count": null,
   "id": "670a0f71",
   "metadata": {},
   "outputs": [],
   "source": []
  },
  {
   "cell_type": "markdown",
   "id": "a61adec1",
   "metadata": {},
   "source": [
    "Cette cellule ci-dessus permet de lancer le versement des données toutes récemment restructurées.\n",
    "selon la à la première question de la partie II, la fonction **`versementDonnes2`** va créer des nouvelles tables et insérer de nouvelles données, ou elle mettra à jour les tables existantes. \n",
    "\n",
    "- S'il s'agit d'une insertion de données dans un nouveau schéma vide, les tables des variables, modalités et celle de la jointure Posseder vont être créés. Ainsi, la fonction demandera les clés primaires (sauf celles de la table Posseder qui se créé automatiquement).\n",
    "\n",
    "Voici les clés primaires par table :\n",
    "\n",
    "\n",
    "| **Nom table** |   **Clé**   |\n",
    "|---------------|:-----------:|\n",
    "| Variable      |  CodeVarID  |\n",
    "| Modalites     | CodeModalID |  \n",
    "\n",
    "\n",
    "- Dans le cas d'une mise à jour de données dans un schéma existant (par exemple l'insertion des données d'une nouvelle année, ou encore l'insertion de données avec une nouvelle échelle ), \n",
    "la fonction va chercher les tables concernées et insérer les données, voire créer de nouvelles tables si besoin."
   ]
  },
  {
   "cell_type": "markdown",
   "id": "03b01ab3",
   "metadata": {},
   "source": [
    "Une fois les versements terminés, la cellule suivante vous permettra de supprimer tous les dossiers temporaires créés au début de ce programme."
   ]
  },
  {
   "cell_type": "markdown",
   "id": "be9d7870",
   "metadata": {},
   "source": [
    "![](logo_bandeau.jpg)"
   ]
  }
 ],
 "metadata": {
  "kernelspec": {
   "display_name": "Python 3 (ipykernel)",
   "language": "python",
   "name": "python3"
  },
  "language_info": {
   "codemirror_mode": {
    "name": "ipython",
    "version": 3
   },
   "file_extension": ".py",
   "mimetype": "text/x-python",
   "name": "python",
   "nbconvert_exporter": "python",
   "pygments_lexer": "ipython3",
   "version": "3.9.7"
  }
 },
 "nbformat": 4,
 "nbformat_minor": 5
}