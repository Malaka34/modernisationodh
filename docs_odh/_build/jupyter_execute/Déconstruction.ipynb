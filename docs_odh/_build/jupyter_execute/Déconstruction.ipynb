{
 "cells": [
  {
   "cell_type": "markdown",
   "id": "1faba70b",
   "metadata": {},
   "source": [
    "![](Bandeau_seul_ODH.png)"
   ]
  },
  {
   "cell_type": "markdown",
   "id": "8f04b684",
   "metadata": {},
   "source": [
    "# II - Déconstruction"
   ]
  },
  {
   "cell_type": "markdown",
   "id": "515398a5",
   "metadata": {},
   "source": [
    "## A.\tPremières question, création automatique de dossier temporaire"
   ]
  },
  {
   "cell_type": "markdown",
   "id": "c589ce08",
   "metadata": {},
   "source": [
    "Le traitement  proprement dit commence par la cellule suivante :"
   ]
  },
  {
   "cell_type": "code",
   "execution_count": null,
   "id": "d24d9e28",
   "metadata": {},
   "outputs": [],
   "source": [
    "new_millesime = fonctions.traitementDonneesComplet(chemin,annee,nom_Fichier_Variable,source,nom_Fichier_Modalite,path_vars,suffix_nom_schema)"
   ]
  },
  {
   "cell_type": "markdown",
   "id": "f47a760d",
   "metadata": {},
   "source": [
    "Cette première étape va permettre de restructurer et de télécharge tous les fichiers csv créés dans la partie précédente, sous la structure prédéfinie et importable vers la base de données **pgAdmin 4**. L'exécution de la fonction fonction **`\"traitementDonneesComplet\"`** va dérouler deux questions:\n",
    "\n",
    "- La première concerne l'exsistence d'un schéma non vide dans pgAdmin pour accueillir ces nouvelles données. `Attention : répondre par oui écrasera l'ancienne version des fichiers variables et modalités s'ils existent déjà`.\n",
    "- Ensuite il faut choisir l'echelle (commune, epci etc.) des données en cours de traitement.\n",
    "\n",
    "Un dossier temporaire va être créer localement pour gérer la suite du traitement. C'est le dossier **\"DosierFichierstraités\"**.\n"
   ]
  },
  {
   "cell_type": "markdown",
   "id": "27ba3b42",
   "metadata": {},
   "source": [
    "## B. Vérification de modalités et variables"
   ]
  },
  {
   "cell_type": "markdown",
   "id": "d3a70d41",
   "metadata": {},
   "source": [
    "Pour créer ou mettre à jour la liste des variables de la source de données  en cours de traitement, pour chaque nouvelle variable rencontrée, la fonction demandera de saisir le libellé long de cette nouvelle variable. Elle procédera de la même manière pour les modalités sauf que dans ce cas, elle demandera en plus la catégorie de regroupement de cette nouvelle modalité.\n",
    "\n",
    "**suggestion :** préparer à l'avance une table comprenant toutes les informations bien rangéss des variables et une autre table pour les modalités (créer une métadonnée)."
   ]
  },
  {
   "cell_type": "markdown",
   "id": "6dd2ec58",
   "metadata": {},
   "source": [
    "À la fin de l'exécusion de cette fonction, les fichiers **csv** à la structuration adéquate sont créés et se trouvent dans le dossier temporaire **\"DosierFichierstraités\"**.\n",
    "On va donc passer à la suite et verser les données dans la base relationnelle **pgAdmin**."
   ]
  },
  {
   "cell_type": "markdown",
   "id": "9a672561",
   "metadata": {},
   "source": [
    "```{note}\n",
    "\n",
    "Si l'exécution de cette cellule produit une erreur, procédez comme suit :\n",
    "- allez manuellement supprimer le dossier temporaire **\"DosierFichierstraités\"**\n",
    "- réexécuter la cellule en répondant \"NON\" à la première question (Question concernant l'existence de schéma non vide)\n",
    "\n",
    "`Attention !!!` : Avant de passer au versement, pensez donc à créer une nouvelle cellule de code (dans la barre en haut, appuyer sur le bouton **+** . il permet d'insérer une nouvelle cellule) contenant : new_millesime = 1.\n",
    "\n",
    "Vous la supprimerez à la fin de l'exécution de tout le programme.\n",
    "```"
   ]
  },
  {
   "cell_type": "markdown",
   "id": "c9ea7b32",
   "metadata": {},
   "source": [
    "![](logo_bandeau.jpg)"
   ]
  }
 ],
 "metadata": {
  "kernelspec": {
   "display_name": "Python 3 (ipykernel)",
   "language": "python",
   "name": "python3"
  },
  "language_info": {
   "codemirror_mode": {
    "name": "ipython",
    "version": 3
   },
   "file_extension": ".py",
   "mimetype": "text/x-python",
   "name": "python",
   "nbconvert_exporter": "python",
   "pygments_lexer": "ipython3",
   "version": "3.9.7"
  }
 },
 "nbformat": 4,
 "nbformat_minor": 5
}