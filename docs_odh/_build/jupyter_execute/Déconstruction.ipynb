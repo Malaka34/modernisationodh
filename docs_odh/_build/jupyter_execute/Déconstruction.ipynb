{
 "cells": [
  {
   "cell_type": "markdown",
   "id": "1faba70b",
   "metadata": {},
   "source": [
    "![](Bandeau_seul_ODH.png)"
   ]
  },
  {
   "cell_type": "markdown",
   "id": "8f04b684",
   "metadata": {},
   "source": [
    "# II - Déconstruction"
   ]
  },
  {
   "cell_type": "markdown",
   "id": "515398a5",
   "metadata": {},
   "source": [
    "## A.\tPremières question, création automatique de dossier temporaire"
   ]
  },
  {
   "cell_type": "markdown",
   "id": "c589ce08",
   "metadata": {},
   "source": [
    "Le traitement à proprement parler commence qui commence par la cellule suivante :"
   ]
  },
  {
   "cell_type": "code",
   "execution_count": null,
   "id": "d24d9e28",
   "metadata": {},
   "outputs": [],
   "source": [
    "new_millesime = fonctions.traitementDonneesComplet(chemin,annee,nom_Fichier_Variable,source,nom_Fichier_Modalite,path_vars,suffix_nom_schema)"
   ]
  },
  {
   "cell_type": "markdown",
   "id": "f47a760d",
   "metadata": {},
   "source": [
    "Cette première étape va permettre de restructurer et de télécharge tous les fichiers csv créés dans la partie précédente, sous la structure pré-définie et importable vers la base pgAdmin. L'exécution de la fonction fonction 'traitementDonneesComplet' va dérouler deux de questions.\n",
    "\n",
    "- La première concerne l'exsistance d'un schéma non vide dans pgAdmin pour acceuillir ces nouvelles données. Attention : répondre par oui écrasera l'ancienne version des fichiers variables et modalités s'ils existent déjà.\n",
    "- Ensuite il faut choisir l'echelle (commune, epci ect...) des données en cours de traitement.\n",
    "\n",
    "Un dossier temporaire va être créer localement pour gérer la suite du traitement. C'est le dossier 'DosierFichierstraités'\n"
   ]
  },
  {
   "cell_type": "markdown",
   "id": "27ba3b42",
   "metadata": {},
   "source": [
    "## B. Vérification de modalités et variables"
   ]
  },
  {
   "cell_type": "markdown",
   "id": "d3a70d41",
   "metadata": {},
   "source": [
    "Pour créer ou mettre à jour la liste des variables de la source de données qui est en train d'être traité, à chaque nouvelle variable rencontrée la fonction va demander de renseigner le libellé long de cette nouvelle variable.\n",
    "Elle procédera de la même manère pour les modalités sauf que dans ce cas, elle demandera en plus la catégorie de regroument de cette nouvelle modalité.\n",
    "\n",
    "suggestion : préparér à l'avance une table comprenant toutes les information bien rangés des variables et une autre table pour les modalités (créer une métadonnées)."
   ]
  },
  {
   "cell_type": "markdown",
   "id": "6dd2ec58",
   "metadata": {},
   "source": [
    "A la fin de l'excusion de cette fonction, les fichiers csv à la structuration adéquate sont créés et se trouvent dans le dossier temporaire 'DossierFichiersTraités'.\n",
    "On va donc passer à la suite et verser les données dans la base relationelle pgAdmin."
   ]
  },
  {
   "cell_type": "markdown",
   "id": "9a672561",
   "metadata": {},
   "source": [
    "```{note}\n",
    "\n",
    "Si l'exécution de cette cellule produit une erreur, procédez comme suit :\n",
    "- allez manuellement supprimer le dossier temporaire 'DossierFichiersTraités'\n",
    "- réexécuter la cellule en répondant 'NON' à la premère question (Question concernant l'existance de schéma non vide)\n",
    "\n",
    "Attention !!! ==> Avant de passer au versement, pensez donc à créer une nouvelle cellule de code (dans la barre en haut, appuyer sur le bouton + . il permet d'insérer une nouvelle cellule) contenant : new_millesime = 1.\n",
    "\n",
    "Vous la supprimerez à la fin de l'exécution de tout le programme.\n",
    "```"
   ]
  },
  {
   "cell_type": "markdown",
   "id": "c9ea7b32",
   "metadata": {},
   "source": [
    "![](logo_bandeau.jpg)"
   ]
  }
 ],
 "metadata": {
  "kernelspec": {
   "display_name": "Python 3 (ipykernel)",
   "language": "python",
   "name": "python3"
  },
  "language_info": {
   "codemirror_mode": {
    "name": "ipython",
    "version": 3
   },
   "file_extension": ".py",
   "mimetype": "text/x-python",
   "name": "python",
   "nbconvert_exporter": "python",
   "pygments_lexer": "ipython3",
   "version": "3.9.7"
  }
 },
 "nbformat": 4,
 "nbformat_minor": 5
}