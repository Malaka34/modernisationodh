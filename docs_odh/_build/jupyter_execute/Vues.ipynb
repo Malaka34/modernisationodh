{
 "cells": [
  {
   "cell_type": "markdown",
   "id": "7e04c47f",
   "metadata": {},
   "source": [
    "![](Bandeau_seul_ODH.png)"
   ]
  },
  {
   "cell_type": "markdown",
   "id": "ca50ba48",
   "metadata": {},
   "source": [
    "# IV - Création et mise à jour des Vues"
   ]
  },
  {
   "cell_type": "markdown",
   "id": "6968806d",
   "metadata": {},
   "source": [
    "Comme dans la partie traitement, on commence ce programme avec l'importations des librairies necésseraire.\n",
    "L’avant dernière ligne qui ressemble à la ligne de code suivante renseigne la locatisation du fichier fonctions.py et donc est à adapter selon sa localisation dans votre ordinateur."
   ]
  },
  {
   "cell_type": "code",
   "execution_count": null,
   "id": "22242bce",
   "metadata": {},
   "outputs": [],
   "source": [
    "sys.path.insert(0, r\"C:/Users/malaka/Documents/prog/BDD\") # à adpter à partir de malaka"
   ]
  },
  {
   "cell_type": "markdown",
   "id": "2ed61c6d",
   "metadata": {},
   "source": [
    "Ensuite toujours comme le script de traitement et versement de données, on va renseigner les paramètres"
   ]
  },
  {
   "cell_type": "code",
   "execution_count": null,
   "id": "e6245a05",
   "metadata": {},
   "outputs": [],
   "source": [
    "######## PARAMETRES :: CONNEXION à LA BASE DE DONNES #########\n",
    "Nom_base = \"bdsociohab\"                             # à adapter\n",
    "Nom_utilisateur = \"Votre_d'utilisateur_pgAdmin\"     # à adapter\n",
    "mot_de_passe = \"Votre_mot_de_passe\"                 # à adapter\n",
    "nom_host = \"s934\" \n",
    "port = \"5441\"\n",
    "\n",
    "suffix_nom_schema = 'sne'                           # à adapter\n",
    "nom_schema_donnees = str('socio_hab_' + suffix_nom_schema)"
   ]
  },
  {
   "cell_type": "markdown",
   "id": "56e7999f",
   "metadata": {},
   "source": [
    "La dernière cellule contient la fonction creationVuesSchema. Elle permet de créer ou de mettre à jour les vues, sous la structure originale des tables excel versés dans pgAdmin.\n",
    "Elle affiche la progression de l'exécution des tâches"
   ]
  },
  {
   "cell_type": "markdown",
   "id": "de5598ee",
   "metadata": {},
   "source": [
    "![](logo_bandeau.jpg)"
   ]
  }
 ],
 "metadata": {
  "kernelspec": {
   "display_name": "Python 3 (ipykernel)",
   "language": "python",
   "name": "python3"
  },
  "language_info": {
   "codemirror_mode": {
    "name": "ipython",
    "version": 3
   },
   "file_extension": ".py",
   "mimetype": "text/x-python",
   "name": "python",
   "nbconvert_exporter": "python",
   "pygments_lexer": "ipython3",
   "version": "3.9.7"
  }
 },
 "nbformat": 4,
 "nbformat_minor": 5
}