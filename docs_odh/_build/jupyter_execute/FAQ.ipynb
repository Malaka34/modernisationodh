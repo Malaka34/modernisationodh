{
 "cells": [
  {
   "cell_type": "markdown",
   "id": "01ae60e8",
   "metadata": {},
   "source": [
    "![](Bandeau_seul_ODH.png)\n",
    "\n",
    "# FAQ\n",
    "\n",
    "## 1- Comment assurer la cohérence avec les fichiers locaux après une modification de table ou téléchargement de fichiers depuis pgAdmin 4 ?\n",
    "\n",
    "Après un téléchargement depuis pgAdmin, il faut s'assurer que le séparateur de texte du fichier téléchargé est ';'. Ceci en le réenregistrant via Excel et en choisissant ';' comme séparateur. Il faut aussi s'assuer que l'encodage soit en utf8.\n",
    "    Voici des exemples de comment faire :\n",
    "\n",
    "### a- Fichier des Modalités"
   ]
  },
  {
   "cell_type": "code",
   "execution_count": null,
   "id": "2276f7d6",
   "metadata": {},
   "outputs": [],
   "source": [
    "# Chargement du fichier des modalités (explain all the params)\n",
    "Modalites = pd.read_csv(path_vars+nom_Fichier_Modalite, delimiter=';', encoding='latin1')"
   ]
  },
  {
   "cell_type": "code",
   "execution_count": null,
   "id": "f4244fda",
   "metadata": {},
   "outputs": [],
   "source": [
    "# renommage des colonnes (explain why ?)\n",
    "Modalites.rename(columns={'codemodalid':'CodeModalID', 'categ_regroupement':'Categ_regroupement', 'libelle_long\t':'Libelle_long', 'codemodalext':'CodeModalEXT', 'libellemodal':'LibelleModal'}, inplace=True)"
   ]
  },
  {
   "cell_type": "code",
   "execution_count": null,
   "id": "ab153bd5",
   "metadata": {},
   "outputs": [],
   "source": [
    "# Enregistrement des modifications\n",
    "Modalites.to_csv(path_vars+nom_Fichier_Modalite,index=False,sep=';', encoding='utf-8')"
   ]
  },
  {
   "cell_type": "markdown",
   "id": "45a5a3f8",
   "metadata": {},
   "source": [
    "### b-Fichier des Variables"
   ]
  },
  {
   "cell_type": "code",
   "execution_count": null,
   "id": "98c675c0",
   "metadata": {},
   "outputs": [],
   "source": [
    "# Chargement du fichier des modalités (explain all the params)\n",
    "Variables = pd.read_csv(path_vars+nom_Fichier_Variable,sep=';',encoding='latin1')"
   ]
  },
  {
   "cell_type": "code",
   "execution_count": null,
   "id": "09cf036c",
   "metadata": {},
   "outputs": [],
   "source": [
    "# renommage des colonnes (explain why ?)\n",
    "Variables.rename(columns={'codevarid':'CodeVarID','libaxeanalyse':'LibAxeAnalyse','origine':'Origine','codevarext':'CodeVarEXT'},inplace=True)"
   ]
  },
  {
   "cell_type": "code",
   "execution_count": null,
   "id": "8b12ce25",
   "metadata": {},
   "outputs": [],
   "source": [
    "# Enregistrement des modifications\n",
    "Variables.to_csv(path_vars+nom_Fichier_Variable,index=False,sep=';',encoding='utf-8')"
   ]
  },
  {
   "cell_type": "markdown",
   "id": "19a6b85d",
   "metadata": {},
   "source": [
    "### c- Fichier de jointure Posseder"
   ]
  },
  {
   "cell_type": "code",
   "execution_count": null,
   "id": "81e31071",
   "metadata": {},
   "outputs": [],
   "source": [
    "# Chargement du fichier des modalités (explain all the params)\n",
    "Posseder = pd.read_csv(path_vars+'posseder_aides_personne.csv',sep=',',encoding='utf-8')"
   ]
  },
  {
   "cell_type": "code",
   "execution_count": null,
   "id": "9e84e4af",
   "metadata": {},
   "outputs": [],
   "source": [
    "# renommage des colonnes (explain why ?)\n",
    "Posseder.rename(columns={'codevarid':'CodeVarID','codemodalid':'CodeModalID'},inplace=True)"
   ]
  },
  {
   "cell_type": "code",
   "execution_count": null,
   "id": "957d137f",
   "metadata": {},
   "outputs": [],
   "source": [
    "# Enregistrement des modifications\n",
    "Posseder.to_csv(path_vars+'posseder_aides_personne.csv',index=False,sep=';',encoding='utf-8')"
   ]
  },
  {
   "cell_type": "markdown",
   "id": "0000cfb9",
   "metadata": {},
   "source": [
    "## 2- Erreur UnicodeDecodeError\n",
    "Cette erreur se produit lorsque vous essayez d'ouvrir un fichier avec l'encodage 'utf-8', alors qu'il est encodé différement."
   ]
  },
  {
   "cell_type": "code",
   "execution_count": null,
   "id": "6cbb7d34",
   "metadata": {},
   "outputs": [],
   "source": [
    "UnicodeDecodeError: 'utf-8' codec can't decode byte 0xe9 in position 1665: invalid continuation byte"
   ]
  },
  {
   "cell_type": "markdown",
   "id": "b0cdabb1",
   "metadata": {},
   "source": [
    "Pour régler ce problème, exécutez les même cellules que dans la question précédente sauf celle du renommage.\n",
    "\n",
    "\n",
    "## 3- Erreur FileExistsError: [WinError 183] \n",
    "Lorsque vous tombez sur ce type d'erreur comme par exemple :"
   ]
  },
  {
   "cell_type": "code",
   "execution_count": null,
   "id": "ad0e04dd",
   "metadata": {},
   "outputs": [],
   "source": [
    "FileExistsError: [WinError 183] Impossible de créer un fichier déjà existant: 'DossierFichiersTraités'"
   ]
  },
  {
   "cell_type": "markdown",
   "id": "0a234455",
   "metadata": {},
   "source": [
    "Celà indique que vous essayer de créer un dossier qui existe déjà. Il faut donc supprimer le dossier existant et rééxécuter votre code.\n",
    "\n",
    "\n",
    "## 4- Erreur ModuleNotFoundError \n",
    "Ce type d'erreur produit quand on cherche à utiliser une librairie / package qui n'a pas été importé."
   ]
  },
  {
   "cell_type": "code",
   "execution_count": null,
   "id": "d9221928",
   "metadata": {},
   "outputs": [],
   "source": [
    "ModuleNotFoundError: No module named 'fonctions'"
   ]
  },
  {
   "cell_type": "markdown",
   "id": "4b670615",
   "metadata": {},
   "source": [
    "Dans cette exemple, c'est parceque le chemin vers le fonctions.py à été mal indiqué. il faudrait revoir la ligne de code suivante :"
   ]
  },
  {
   "cell_type": "code",
   "execution_count": null,
   "id": "2e689503",
   "metadata": {},
   "outputs": [],
   "source": [
    "sys.path.insert(0, r\"C:/Users/malaka/Documents/BDD\")  # à adapter a partir de malaka"
   ]
  },
  {
   "cell_type": "markdown",
   "id": "92460e2a",
   "metadata": {},
   "source": [
    "## 5- Erreur AttributeError"
   ]
  },
  {
   "cell_type": "code",
   "execution_count": null,
   "id": "0ab34533",
   "metadata": {},
   "outputs": [],
   "source": [
    "AttributeError: 'NoneType' object has no attribute 'cursor'"
   ]
  },
  {
   "cell_type": "markdown",
   "id": "61c9442b",
   "metadata": {},
   "source": [
    "Ce type d'erreur peut survenir lorsque le mot de passe et/ou le nom d'utilisateur pour la connexion au serveur sont mal renseignés.\n",
    "\n",
    "\n",
    "## 6- Erreur psycopg2.errors.UniqueViolation"
   ]
  },
  {
   "cell_type": "code",
   "execution_count": null,
   "id": "64e5841d",
   "metadata": {},
   "outputs": [],
   "source": [
    "psycopg2.errors.UniqueViolation: ERREUR:  la valeur d'une clé dupliquée rompt la contrainte unique « age_demandeur_attribution_pkey »\n",
    "DETAIL:  La clé « (indiceposition)=(15340031522020) » existe déjà."
   ]
  },
  {
   "cell_type": "markdown",
   "id": "ab18aec1",
   "metadata": {},
   "source": [
    "Cela suggère que vous avez probablement mal renseigné le paramètre annee\n",
    "\n",
    "![](logo_bandeau.jpg)"
   ]
  }
 ],
 "metadata": {
  "jupytext": {
   "cell_metadata_filter": "-all",
   "formats": "md:myst",
   "text_representation": {
    "extension": ".md",
    "format_name": "myst",
    "format_version": 0.13,
    "jupytext_version": "1.11.5"
   }
  },
  "kernelspec": {
   "display_name": "Python 3",
   "language": "python",
   "name": "python3"
  },
  "source_map": [
   14,
   25,
   31,
   37,
   40,
   42,
   48,
   54,
   57,
   60,
   66,
   72,
   75,
   78,
   80,
   87,
   89,
   96,
   98,
   101,
   103,
   108,
   110,
   116,
   119
  ]
 },
 "nbformat": 4,
 "nbformat_minor": 5
}