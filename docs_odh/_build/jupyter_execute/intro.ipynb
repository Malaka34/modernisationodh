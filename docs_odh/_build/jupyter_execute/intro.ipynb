{
 "cells": [
  {
   "cell_type": "markdown",
   "id": "58b99591",
   "metadata": {},
   "source": [
    "![](Bandeau_seul_ODH.png)\n",
    "\n",
    "# Hello !\n",
    "\n",
    "L'objectif de cette documentation est d'accompagner l'automatisation des processus de traitements et versements de données Excel vers **pgAdmin 4 `(posgreSQL)`**.<br>\n",
    "Cette documentation explique donc dans un premier temps les façons de procéder pour déconstruire les jeux de données collectées sous format **classeur Excel `(extensions xlx et xlsx)`**, ensuite d'assurer la migration de ces données vers l'entrepôt de données **pgAdmin 4 `(posgreSQL)`** et enfin d'enregistrer ces données dans leurs structures originales en tant que **Vues `(posgreSQL)`**. \n",
    "\n",
    "![](avnt_apres_migres.PNG)\n",
    "\n",
    "```{note}\n",
    "- Il est nécessaire d'avoir téléchargé la librairie **psycopg2** avant toute utilisation du programme universel.\n",
    "    Veuillez trouver ci-dessous le code servant à l'installation de cette librairie\n",
    "```"
   ]
  },
  {
   "cell_type": "code",
   "execution_count": null,
   "id": "a6f574c5",
   "metadata": {},
   "outputs": [],
   "source": [
    "!pip istall psycopg2"
   ]
  },
  {
   "cell_type": "markdown",
   "id": "5da231eb",
   "metadata": {},
   "source": [
    "```{seealso}\n",
    "N'oubliez pas d'actualiser l'appelle aux de fonctions dans le script de traitement après une modification de fonction dans le fichier fonctions.py. Cela se fait comme suit: \n",
    "```"
   ]
  },
  {
   "cell_type": "code",
   "execution_count": null,
   "id": "be64aef5",
   "metadata": {},
   "outputs": [],
   "source": [
    "import importlib\n",
    "importlib.reload(fonctions)"
   ]
  },
  {
   "cell_type": "markdown",
   "id": "dadb8902",
   "metadata": {},
   "source": [
    "```{tableofcontents}\n",
    "```\n",
    "\n",
    "![](logo_bandeau.jpg)"
   ]
  }
 ],
 "metadata": {
  "jupytext": {
   "cell_metadata_filter": "-all",
   "formats": "md:myst",
   "text_representation": {
    "extension": ".md",
    "format_name": "myst",
    "format_version": 0.13,
    "jupytext_version": "1.11.5"
   }
  },
  "kernelspec": {
   "display_name": "Python 3",
   "language": "python",
   "name": "python3"
  },
  "source_map": [
   14,
   30,
   32,
   38,
   41
  ]
 },
 "nbformat": 4,
 "nbformat_minor": 5
}