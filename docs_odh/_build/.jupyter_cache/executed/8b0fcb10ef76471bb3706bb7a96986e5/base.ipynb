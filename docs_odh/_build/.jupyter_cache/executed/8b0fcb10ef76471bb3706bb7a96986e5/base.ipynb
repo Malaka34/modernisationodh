{
 "cells": [
  {
   "cell_type": "code",
   "execution_count": 1,
   "id": "67728994",
   "metadata": {},
   "outputs": [
    {
     "name": "stderr",
     "output_type": "stream",
     "text": [
      "'[]' n’est pas reconnu en tant que commande interne\n",
      "ou externe, un programme exécutable ou un fichier de commandes.\n"
     ]
    }
   ],
   "source": [
    "![](Excel.PNG)"
   ]
  },
  {
   "cell_type": "code",
   "execution_count": null,
   "id": "aae70eef",
   "metadata": {},
   "outputs": [],
   "source": []
  }
 ],
 "metadata": {
  "kernelspec": {
   "display_name": "Python 3 (ipykernel)",
   "language": "python",
   "name": "python3"
  },
  "language_info": {
   "codemirror_mode": {
    "name": "ipython",
    "version": 3
   },
   "file_extension": ".py",
   "mimetype": "text/x-python",
   "name": "python",
   "nbconvert_exporter": "python",
   "pygments_lexer": "ipython3",
   "version": "3.9.7"
  }
 },
 "nbformat": 4,
 "nbformat_minor": 5
}