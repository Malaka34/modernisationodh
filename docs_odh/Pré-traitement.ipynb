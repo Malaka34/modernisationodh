{
 "cells": [
  {
   "cell_type": "markdown",
   "id": "6ad03698",
   "metadata": {},
   "source": [
    "![](Bandeau_seul_ODH.png)"
   ]
  },
  {
   "cell_type": "markdown",
   "id": "dccc4435",
   "metadata": {},
   "source": [
    "# Nettoyage du WorkBook Excel"
   ]
  },
  {
   "cell_type": "markdown",
   "id": "ced3dba1",
   "metadata": {},
   "source": [
    "```{note}\n",
    "- **Suggestion :**\n",
    "\n",
    "Il est fortement conseillé d'utilisé des **classeurs Excel dont les extentions sont `xlsx`**. Convertiser donc si besoin vos classeurs `xls` en `xlsx`.\n",
    "```"
   ]
  },
  {
   "cell_type": "markdown",
   "id": "b5187cf1",
   "metadata": {},
   "source": [
    "La première étape consiste à nettoyer le classeur Excel afin qu’il soit prêt à être passé à la fonction de déconstruction. Dans cette il faut que les règles ci-dessus soient respectées :"
   ]
  },
  {
   "cell_type": "markdown",
   "id": "151ec811",
   "metadata": {},
   "source": [
    "\n",
    "1 -\tPas de parenthèses dans les noms de colonnes, ni dans les noms d’onglets <br>\n",
    "\n",
    "\n",
    "2 -\tPas de caractères spéciaux (<,>,=,-, .) dans les noms de colonnes, ni dans les noms d’onglets<br>\n",
    "\n",
    "\n",
    "3 -\tNe pas laisser d’espace à la fin du nom de colonne ou d’onglet<br>\n",
    "\n",
    "\n",
    "4 -\tNe pas commencer le nom d’une colonne par des chiffres<br>\n",
    "\n",
    "\n",
    "5 -\tNe pas mettre des chiffres comme nom de colonnes ni dans les noms d’onglets<br>\n",
    "\n",
    "\n",
    "6 -\tNe mettre qu’une table par onglet, car chaque onglet va être transformé en **fichier CSV**<br>\n",
    "\n",
    "\n",
    "7 -\tLes données doivent être de la même échelle (commune / Epci / Iris) dans un classeur<br>\n",
    "\n",
    "\n",
    "8 -\tLorsqu’il y a des informations non renseignés, laisser leurs cellules vides. `Ne surtout pas mettre \"ns\" au risque de compromettre la cohérence du typage de cette colonne`<br>\n",
    "\n",
    "\n",
    "9 - Ne garder dans les fichiers Excel que les lignes à charger dans la base de données<br>\n",
    "\n",
    "10 - La règle 8 s’applique aussi pour les données secrétisées. Laisser leurs cellules vides.<br>\n",
    "\n",
    "Par ailleurs il existe une fonction dans le processus de déconstruction qui vérifie les premières règles. Les noms de colonnes sont transformés en modalités et ceux des onglets en variables (voir la section **FAQ**).\n"
   ]
  },
  {
   "cell_type": "markdown",
   "id": "0c4e3744",
   "metadata": {},
   "source": [
    "![](logo_bandeau.jpg)"
   ]
  },
  {
   "cell_type": "code",
   "execution_count": null,
   "id": "11d2f4f7",
   "metadata": {},
   "outputs": [],
   "source": []
  }
 ],
 "metadata": {
  "kernelspec": {
   "display_name": "Python 3 (ipykernel)",
   "language": "python",
   "name": "python3"
  },
  "language_info": {
   "codemirror_mode": {
    "name": "ipython",
    "version": 3
   },
   "file_extension": ".py",
   "mimetype": "text/x-python",
   "name": "python",
   "nbconvert_exporter": "python",
   "pygments_lexer": "ipython3",
   "version": "3.9.7"
  }
 },
 "nbformat": 4,
 "nbformat_minor": 5
}
