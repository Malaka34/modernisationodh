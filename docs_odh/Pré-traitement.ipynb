{
 "cells": [
  {
   "cell_type": "markdown",
   "id": "dccc4435",
   "metadata": {},
   "source": [
    "# Nettoyage du WorkBook Excel"
   ]
  },
  {
   "cell_type": "markdown",
   "id": "151ec811",
   "metadata": {},
   "source": [
    "La première étape consiste à nettoyer le WorkBook Excel afin qu’il soit prêt à être passé à la fonction de déconstruction. Dans cette il faut que les règles ci-dessus soient respectés :\n",
    "1.\tPas de parenthèses dans les noms de colonnes, ni dans les noms d’onglets\n",
    "2.\tPas de caractères spéciaux (<,>,=,-, .) dans les noms de colonnes, ni dans les noms d’onglets\n",
    "3.\tNe pas laisser d’espace à la fin du nom de colonne ou d’onglet\n",
    "4.\tNe pas commencer le nom d’une colonne par des chiffres\n",
    "5.\tNe pas mettre des chiffres comme nom de colonnes ni dans les noms d’onglets\n",
    "6.\tNe mettre qu’une table (information / données) par onglet, car chaque onglet va être transformé en fichier CSV\n",
    "7.\tLes données doivent être de la même échelle (commune / Epci / Iris) dans un WorkBook\n",
    "8.\tLorsqu’il y a des non renseignés, laisser leurs cellules vides. Ne surtout pas mettre ‘ns’ au risque de compromettre la cohérence du typage de cette colonne\n",
    "9.\tLa règle 8 s’applique aussi pour les données secrétisées. Laisser leurs cellules vides.\n",
    "Par ailleurs il existe une fonction dans le processus de déconstruction qui vérifie les premières règles. Les noms de colonnes sont transformés en modalités et ceux des onglets en variables.\n",
    "10. Ne garder dans les fichiers Excel que les lignes à charger dans la base de données\n"
   ]
  },
  {
   "cell_type": "code",
   "execution_count": null,
   "id": "eae9a1fd",
   "metadata": {},
   "outputs": [],
   "source": []
  }
 ],
 "metadata": {
  "kernelspec": {
   "display_name": "Python 3 (ipykernel)",
   "language": "python",
   "name": "python3"
  },
  "language_info": {
   "codemirror_mode": {
    "name": "ipython",
    "version": 3
   },
   "file_extension": ".py",
   "mimetype": "text/x-python",
   "name": "python",
   "nbconvert_exporter": "python",
   "pygments_lexer": "ipython3",
   "version": "3.9.7"
  }
 },
 "nbformat": 4,
 "nbformat_minor": 5
}
